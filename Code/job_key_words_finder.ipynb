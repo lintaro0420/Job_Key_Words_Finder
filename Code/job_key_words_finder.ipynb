{
 "cells": [
  {
   "cell_type": "code",
   "execution_count": 1,
   "id": "648e14a6",
   "metadata": {},
   "outputs": [
    {
     "name": "stderr",
     "output_type": "stream",
     "text": [
      "[nltk_data] Downloading package stopwords to\n",
      "[nltk_data]     /Users/lintaromiyashin/nltk_data...\n",
      "[nltk_data]   Package stopwords is already up-to-date!\n",
      "[nltk_data] Downloading package punkt to\n",
      "[nltk_data]     /Users/lintaromiyashin/nltk_data...\n",
      "[nltk_data]   Package punkt is already up-to-date!\n",
      "[nltk_data] Downloading package wordnet to\n",
      "[nltk_data]     /Users/lintaromiyashin/nltk_data...\n",
      "[nltk_data]   Package wordnet is already up-to-date!\n",
      "[nltk_data] Downloading package averaged_perceptron_tagger to\n",
      "[nltk_data]     /Users/lintaromiyashin/nltk_data...\n",
      "[nltk_data]   Package averaged_perceptron_tagger is already up-to-\n",
      "[nltk_data]       date!\n",
      "[nltk_data] Downloading package omw-1.4 to\n",
      "[nltk_data]     /Users/lintaromiyashin/nltk_data...\n",
      "[nltk_data]   Package omw-1.4 is already up-to-date!\n"
     ]
    },
    {
     "data": {
      "text/plain": [
       "True"
      ]
     },
     "execution_count": 1,
     "metadata": {},
     "output_type": "execute_result"
    }
   ],
   "source": [
    "import nltk\n",
    "from nltk.corpus import stopwords, wordnet\n",
    "from nltk.tokenize import word_tokenize\n",
    "from nltk.stem import WordNetLemmatizer\n",
    "from collections import Counter\n",
    "import string\n",
    "import pandas as pd\n",
    "\n",
    "# Download required NLTK data\n",
    "nltk.download('stopwords')\n",
    "nltk.download('punkt')\n",
    "nltk.download('wordnet')\n",
    "nltk.download('averaged_perceptron_tagger') \n",
    "nltk.download('omw-1.4')\n"
   ]
  },
  {
   "cell_type": "code",
   "execution_count": 2,
   "id": "6cd067a0",
   "metadata": {},
   "outputs": [],
   "source": [
    "# Function to get POS tag for lemmatization\n",
    "def get_wordnet_pos(word):\n",
    "    tag = nltk.pos_tag([word])[0][1][0].upper()\n",
    "    tag_dict = {\"J\": wordnet.ADJ, \"N\": wordnet.NOUN, \"V\": wordnet.VERB, \"R\": wordnet.ADV}\n",
    "    return tag_dict.get(tag, wordnet.NOUN)\n"
   ]
  },
  {
   "cell_type": "code",
   "execution_count": 3,
   "id": "ed71195a",
   "metadata": {},
   "outputs": [],
   "source": [
    "# Function to find top 10 keywords from a job description text\n",
    "def find_top_keywords(text):\n",
    "    # Tokenize the text\n",
    "    words = word_tokenize(text)\n",
    "\n",
    "    # Convert words to lower case\n",
    "    words = [word.lower() for word in words]\n",
    "\n",
    "    # Initialize the WordNet Lemmatizer\n",
    "    lemmatizer = WordNetLemmatizer()\n",
    "    \n",
    "    # Lemmatize the words\n",
    "    words = [lemmatizer.lemmatize(word, get_wordnet_pos(word)) for word in words if word.isalpha()]\n",
    "\n",
    "    # Remove stopwords, punctuation\n",
    "    stop_words = set(stopwords.words('english'))\n",
    "    # Remove words that often appear in any job descriptions but have no impactful meaning\n",
    "    custom_words = {\"get\", \"team\", \"work\", \"help\", \"responsibilitiy\", \"role\", \"experience\"}\n",
    "    #lemmatize words \n",
    "    words = [word for word in words if word not in stop_words and word not in custom_words]\n",
    "\n",
    "    # Count word frequencies\n",
    "    word_counts = Counter(words)\n",
    "\n",
    "    # Get the top 10 most common words\n",
    "    top_keywords = word_counts.most_common(10)\n",
    "\n",
    "    # Format the keywords as a string\n",
    "    top_keywords_str = ', '.join([word for word, freq in top_keywords])\n",
    "\n",
    "    return top_keywords_str"
   ]
  },
  {
   "cell_type": "code",
   "execution_count": 4,
   "id": "8487fec0",
   "metadata": {},
   "outputs": [],
   "source": [
    "# Function to process the CSV file\n",
    "def process_csv(input_file_path, output_file_path):\n",
    "    # Read the CSV file\n",
    "    df = pd.read_csv(input_file_path)\n",
    "\n",
    "    # Process each job description to find the top 10 keywords\n",
    "    df['Top 10 Keywords'] = df['Job Description'].apply(find_top_keywords)\n",
    "\n",
    "    # Write the updated DataFrame back to the new CSV file\n",
    "    df.to_csv(output_file_path, index=False)\n"
   ]
  },
  {
   "cell_type": "code",
   "execution_count": 5,
   "id": "3c879600",
   "metadata": {},
   "outputs": [],
   "source": [
    "# Example usage\n",
    "input_file_path = 'joblist.csv'  # input CSV file path\n",
    "output_file_path = 'joblist_withkeywords.csv'  # output CSV file path\n",
    "process_csv(input_file_path, output_file_path)"
   ]
  }
 ],
 "metadata": {
  "kernelspec": {
   "display_name": "Python 3 (ipykernel)",
   "language": "python",
   "name": "python3"
  },
  "language_info": {
   "codemirror_mode": {
    "name": "ipython",
    "version": 3
   },
   "file_extension": ".py",
   "mimetype": "text/x-python",
   "name": "python",
   "nbconvert_exporter": "python",
   "pygments_lexer": "ipython3",
   "version": "3.10.9"
  }
 },
 "nbformat": 4,
 "nbformat_minor": 5
}
